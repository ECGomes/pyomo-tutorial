{
 "cells": [
  {
   "cell_type": "code",
   "execution_count": 1,
   "metadata": {
    "collapsed": true
   },
   "outputs": [],
   "source": [
    "# Imports\n",
    "\n",
    "import numpy as np\n",
    "import pandas as pd\n",
    "import matplotlib.pyplot as plt\n",
    "\n",
    "import pyomo.environ as pe"
   ]
  },
  {
   "cell_type": "code",
   "execution_count": 2,
   "outputs": [
    {
     "name": "stdout",
     "output_type": "stream",
     "text": [
      "1 Var Declarations\n",
      "    q : Size=1, Index=None\n",
      "        Key  : Lower : Value             : Upper : Fixed : Stale : Domain\n",
      "        None :     0 : 8.944095772551782 :  None : False : False : NonNegativeReals\n",
      "\n",
      "1 Objective Declarations\n",
      "    objective : Size=1, Index=None, Active=True\n",
      "        Key  : Active : Sense    : Expression\n",
      "        None :   True : maximize : 40.0*q/(q + 4.0)/(q + 20.0)\n",
      "\n",
      "2 Declarations: q objective\n",
      "\n",
      "Flowrate at maximum CB =  8.944095772551782 liters per minute.\n",
      "\n",
      "Maximum CB = 0.9549150280461883 moles per liter.\n",
      "\n",
      "Productivity =  8.540851465494079 moles per minute.\n"
     ]
    }
   ],
   "source": [
    "# Taken from https://jckantor.github.io/CBE30338/06.99-Pyomo-Examples.html\n",
    "\n",
    "V = 40     # liters\n",
    "kA = 0.5   # 1/min\n",
    "kB = 0.1   # l/min\n",
    "CAf = 2.0  # moles/liter\n",
    "\n",
    "# create a model instance\n",
    "model = pe.ConcreteModel()\n",
    "\n",
    "# create x and y variables in the model\n",
    "model.q = pe.Var(domain=pe.NonNegativeReals, initialize=0.0)\n",
    "\n",
    "# add a model objective\n",
    "model.objective = pe.Objective(expr = model.q*V*kA*CAf/(model.q + V*kB)/(model.q + V*kA), sense=pe.maximize)\n",
    "\n",
    "# compute a solution using ipopt for nonlinear optimization\n",
    "results = pe.SolverFactory('scip', executable='C:/Program Files/SCIPOptSuite 8.0.3/bin/scip.exe').solve(model)\n",
    "model.pprint()\n",
    "\n",
    "\n",
    "# print solutions\n",
    "qmax = model.q()\n",
    "CBmax = model.objective()\n",
    "print('\\nFlowrate at maximum CB = ', qmax, 'liters per minute.')\n",
    "print('\\nMaximum CB =', CBmax, 'moles per liter.')\n",
    "print('\\nProductivity = ', qmax*CBmax, 'moles per minute.')"
   ],
   "metadata": {
    "collapsed": false
   }
  },
  {
   "cell_type": "code",
   "execution_count": 3,
   "outputs": [
    {
     "name": "stdout",
     "output_type": "stream",
     "text": [
      "4 Param Declarations\n",
      "    CAf : Size=1, Index=None, Domain=Any, Default=None, Mutable=False\n",
      "        Key  : Value\n",
      "        None :   2.0\n",
      "    V : Size=1, Index=None, Domain=Any, Default=None, Mutable=False\n",
      "        Key  : Value\n",
      "        None :    40\n",
      "    kA : Size=1, Index=None, Domain=Any, Default=None, Mutable=False\n",
      "        Key  : Value\n",
      "        None :   0.5\n",
      "    kB : Size=1, Index=None, Domain=Any, Default=None, Mutable=False\n",
      "        Key  : Value\n",
      "        None :   0.1\n",
      "\n",
      "1 Var Declarations\n",
      "    q : Size=1, Index=None\n",
      "        Key  : Lower : Value             : Upper : Fixed : Stale : Domain\n",
      "        None :     0 : 8.944540051188161 :  None : False : False : NonNegativeReals\n",
      "\n",
      "1 Objective Declarations\n",
      "    objective : Size=1, Index=None, Active=True\n",
      "        Key  : Active : Sense    : Expression\n",
      "        None :   True : maximize : 40.0*q/(q + 4.0)/(q + 20.0)\n",
      "\n",
      "1 Constraint Declarations\n",
      "    constraint_one : Size=1, Index=None, Active=True\n",
      "        Key  : Lower : Body : Upper : Active\n",
      "        None :  -Inf :    q :  10.0 :   True\n",
      "\n",
      "7 Declarations: V kA kB CAf q constraint_one objective\n",
      "\n",
      "Flowrate at maximum CB =  8.944540051188161 liters per minute.\n",
      "\n",
      "Maximum CB = 0.9549150279420151 moles per liter.\n",
      "\n",
      "Productivity =  8.541275712908817 moles per minute.\n"
     ]
    }
   ],
   "source": [
    "# Same thing but with function definitions\n",
    "\n",
    "# Create a model instance\n",
    "model = pe.ConcreteModel()\n",
    "\n",
    "# Create model parameters -> parameters are not variables, they are constants\n",
    "model.V = pe.Param(initialize=V)\n",
    "model.kA = pe.Param(initialize=kA)\n",
    "model.kB = pe.Param(initialize=kB)\n",
    "model.CAf = pe.Param(initialize=CAf)\n",
    "\n",
    "# Variables are the things we want to solve for\n",
    "model.q = pe.Var(domain=pe.NonNegativeReals, initialize=0.0)\n",
    "\n",
    "# Create a constraint with a function -> constraints are things that hold true and cannot be violated\n",
    "def _constraint_one(m):\n",
    "    return m.q <= 10\n",
    "\n",
    "# Assign the constraint to the model\n",
    "model.constraint_one = pe.Constraint(rule=_constraint_one)\n",
    "\n",
    "# Add a model objective -> objective is the thing we want to maximize or minimize\n",
    "def _objective_function(m):\n",
    "    return m.q * m.V * m.kA * m.CAf / (m.q + m.V * m.kB) / (m.q + m.V * m.kA)\n",
    "model.objective = pe.Objective(expr=_objective_function, sense=pe.maximize)\n",
    "\n",
    "# Create a solver instance -> Change this according to the problem. SCIP is a good general purpose solver\n",
    "results = pe.SolverFactory('scip', executable='C:/Program Files/SCIPOptSuite 8.0.3/bin/scip.exe').solve(model)\n",
    "model.pprint()\n",
    "\n",
    "\n",
    "# print solutions\n",
    "qmax = model.q()\n",
    "CBmax = model.objective()\n",
    "print('\\nFlowrate at maximum CB = ', qmax, 'liters per minute.')\n",
    "print('\\nMaximum CB =', CBmax, 'moles per liter.')\n",
    "print('\\nProductivity = ', qmax*CBmax, 'moles per minute.')"
   ],
   "metadata": {
    "collapsed": false
   }
  },
  {
   "cell_type": "code",
   "execution_count": null,
   "outputs": [],
   "source": [],
   "metadata": {
    "collapsed": false
   }
  }
 ],
 "metadata": {
  "kernelspec": {
   "display_name": "Python 3",
   "language": "python",
   "name": "python3"
  },
  "language_info": {
   "codemirror_mode": {
    "name": "ipython",
    "version": 2
   },
   "file_extension": ".py",
   "mimetype": "text/x-python",
   "name": "python",
   "nbconvert_exporter": "python",
   "pygments_lexer": "ipython2",
   "version": "2.7.6"
  }
 },
 "nbformat": 4,
 "nbformat_minor": 0
}
